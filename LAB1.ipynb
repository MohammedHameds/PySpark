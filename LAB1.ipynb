{
 "cells": [
  {
   "cell_type": "markdown",
   "id": "388fe9f7-bf57-4f0e-adb6-8a93a343d34a",
   "metadata": {},
   "source": [
    "### Import the required libraries then Create SparkContext"
   ]
  },
  {
   "cell_type": "code",
   "execution_count": 8,
   "id": "4a829ea5",
   "metadata": {},
   "outputs": [],
   "source": [
    "import os"
   ]
  },
  {
   "cell_type": "code",
   "execution_count": null,
   "id": "21112fec",
   "metadata": {},
   "outputs": [],
   "source": [
    "from pyspark.sql import SparkSession\n",
    "\n",
    "spark = SparkSession.builder \\\n",
    "    .appName(\"MyApp\") \\\n",
    "    .master(\"local[*]\") \\\n",
    "    .getOrCreate()\n",
    "\n",
    "sc = spark.sparkContext"
   ]
  },
  {
   "cell_type": "code",
   "execution_count": 2,
   "id": "bdbfabf2",
   "metadata": {},
   "outputs": [
    {
     "data": {
      "text/html": [
       "\n",
       "            <div>\n",
       "                <p><b>SparkSession - in-memory</b></p>\n",
       "                \n",
       "        <div>\n",
       "            <p><b>SparkContext</b></p>\n",
       "\n",
       "            <p><a href=\"http://17e91fb2981d:4040\">Spark UI</a></p>\n",
       "\n",
       "            <dl>\n",
       "              <dt>Version</dt>\n",
       "                <dd><code>v3.5.0</code></dd>\n",
       "              <dt>Master</dt>\n",
       "                <dd><code>local[*]</code></dd>\n",
       "              <dt>AppName</dt>\n",
       "                <dd><code>MyApp</code></dd>\n",
       "            </dl>\n",
       "        </div>\n",
       "        \n",
       "            </div>\n",
       "        "
      ],
      "text/plain": [
       "<pyspark.sql.session.SparkSession at 0x79ff2c209410>"
      ]
     },
     "execution_count": 2,
     "metadata": {},
     "output_type": "execute_result"
    }
   ],
   "source": [
    "spark"
   ]
  },
  {
   "cell_type": "code",
   "execution_count": 9,
   "id": "caf53d33",
   "metadata": {},
   "outputs": [],
   "source": [
    "os.makedirs(\"Dataset\", exist_ok=True)"
   ]
  },
  {
   "cell_type": "markdown",
   "id": "ab7210b0",
   "metadata": {},
   "source": [
    "### Create a sample1.txt file to contain the text shown below."
   ]
  },
  {
   "cell_type": "code",
   "execution_count": 11,
   "id": "66581f70",
   "metadata": {},
   "outputs": [],
   "source": [
    "with open(\"Dataset/sample1.txt\", \"w\") as f:\n",
    "    f.write('''\n",
    "Utilitatis causa amicitia est quaesita.\n",
    "Lorem ipsum dolor sit amet, consectetur adipiscing elit. \n",
    "Collatio igitur ista tenihil iuvat. \n",
    "Honesta oratio, Socratica, Platonis etiam. \n",
    "Primum in nostranepotestate est, quid meminerimus? \n",
    "Duo Reges: constructio interrete.\n",
    "Quid, sietiam iucunda memoria est praeteritorum malorum? \n",
    "Si quidem, inquit, tollerem,''')"
   ]
  },
  {
   "cell_type": "markdown",
   "id": "bdbe2cee-ce51-49ef-a8a4-845bbb2ba1e9",
   "metadata": {},
   "source": [
    "### Read sample1.txt file into RDD and displaying the first 4 elements"
   ]
  },
  {
   "cell_type": "code",
   "execution_count": 48,
   "id": "43d1951b",
   "metadata": {},
   "outputs": [],
   "source": [
    "rdd = spark.read.text(\"Dataset/sample1.txt\").rdd"
   ]
  },
  {
   "cell_type": "code",
   "execution_count": 15,
   "id": "ff4fd02f",
   "metadata": {},
   "outputs": [
    {
     "data": {
      "text/plain": [
       "[Row(value=''),\n",
       " Row(value='Utilitatis causa amicitia est quaesita.'),\n",
       " Row(value='Lorem ipsum dolor sit amet, consectetur adipiscing elit. '),\n",
       " Row(value='Collatio igitur ista tenihil iuvat. ')]"
      ]
     },
     "execution_count": 15,
     "metadata": {},
     "output_type": "execute_result"
    }
   ],
   "source": [
    "rdd.take(4)"
   ]
  },
  {
   "cell_type": "markdown",
   "id": "3cfa7c8d-51b4-4345-9187-5f588c5149a0",
   "metadata": {},
   "source": [
    "### Count the total number of rows in RDD"
   ]
  },
  {
   "cell_type": "code",
   "execution_count": 18,
   "id": "afe53281",
   "metadata": {},
   "outputs": [
    {
     "name": "stdout",
     "output_type": "stream",
     "text": [
      "Total number of rows : 9\n"
     ]
    }
   ],
   "source": [
    "print(\"Total number of rows :\",rdd.count())"
   ]
  },
  {
   "cell_type": "markdown",
   "id": "0c7398e1-f762-477b-8a86-395724395939",
   "metadata": {},
   "source": [
    "### Create a function to convert the data into lower case and splitting it"
   ]
  },
  {
   "cell_type": "code",
   "execution_count": 21,
   "id": "cc70a85a",
   "metadata": {},
   "outputs": [
    {
     "data": {
      "text/plain": [
       "['',\n",
       " 'utilitatis causa amicitia est quaesita.',\n",
       " 'lorem ipsum dolor sit amet, consectetur adipiscing elit. ',\n",
       " 'collatio igitur ista tenihil iuvat. ',\n",
       " 'honesta oratio, socratica, platonis etiam. ']"
      ]
     },
     "execution_count": 21,
     "metadata": {},
     "output_type": "execute_result"
    }
   ],
   "source": [
    "rdd_lower = rdd.map(lambda x: x[0].lower())\n",
    "\n",
    "rdd_lower.take(5)"
   ]
  },
  {
   "cell_type": "markdown",
   "id": "8e472939-775c-4294-9756-747a307e0534",
   "metadata": {},
   "source": [
    "### Remove the stopwords from the previous text. i.e. Remove it."
   ]
  },
  {
   "cell_type": "code",
   "execution_count": 49,
   "id": "bd84310a",
   "metadata": {},
   "outputs": [],
   "source": [
    "stopwords = ['a','all','the','as','is','am','an','and',\n",
    "             'be','been','from','had','I','I’d','why','with']"
   ]
  },
  {
   "cell_type": "code",
   "execution_count": 50,
   "id": "4db79bd9-ca09-4609-993f-5699444254d6",
   "metadata": {},
   "outputs": [],
   "source": [
    "stopwords = set(word.lower() for word in stopwords)\n",
    "\n",
    "words_rdd = rdd.flatMap(lambda row: row.value.split()) \\\n",
    "               .filter(lambda word: word.lower() not in stopwords)\n",
    "\n"
   ]
  },
  {
   "cell_type": "code",
   "execution_count": 51,
   "id": "a829ed74",
   "metadata": {},
   "outputs": [
    {
     "name": "stdout",
     "output_type": "stream",
     "text": [
      "['Utilitatis', 'causa', 'amicitia', 'est', 'quaesita.', 'Lorem', 'ipsum', 'dolor', 'sit', 'amet,', 'consectetur', 'adipiscing', 'elit.', 'Collatio', 'igitur', 'ista', 'tenihil', 'iuvat.', 'Honesta', 'oratio,', 'Socratica,', 'Platonis', 'etiam.', 'Primum', 'in', 'nostranepotestate', 'est,', 'quid', 'meminerimus?', 'Duo', 'Reges:', 'constructio', 'interrete.', 'Quid,', 'sietiam', 'iucunda', 'memoria', 'est', 'praeteritorum', 'malorum?', 'Si', 'quidem,', 'inquit,', 'tollerem,']\n"
     ]
    }
   ],
   "source": [
    "print(words_rdd.collect())"
   ]
  },
  {
   "cell_type": "markdown",
   "id": "610d3a1f-0087-4f8d-99ed-47aab87ad1dc",
   "metadata": {},
   "source": [
    "### Find the words starting with ‘c’"
   ]
  },
  {
   "cell_type": "code",
   "execution_count": 52,
   "id": "9374c909-61e1-4047-a990-81f96bda5e26",
   "metadata": {},
   "outputs": [
    {
     "name": "stdout",
     "output_type": "stream",
     "text": [
      "['causa', 'consectetur', 'constructio']\n"
     ]
    }
   ],
   "source": [
    "words_starting_with_c = words_rdd.filter(lambda word: word.startswith('c'))\n",
    "print(words_starting_with_c.collect())"
   ]
  },
  {
   "cell_type": "markdown",
   "id": "5b4185dc-a547-47bf-adf7-67c93e760ce8",
   "metadata": {},
   "source": [
    "### Reduce the data by key and sum it (use the data from the following list)"
   ]
  },
  {
   "cell_type": "code",
   "execution_count": 53,
   "id": "aea1c522-c26a-4055-be5c-3ecd5aa94f8e",
   "metadata": {},
   "outputs": [],
   "source": [
    "list = [('JK', 22), ('V', 24), ('Jimin',24), ('RM', 25)\n",
    "        , ('J-Hope', 25), ('Suga', 26), ('Jin', 27)\n",
    "       , ('J-Hope', 12), ('Suga', 25), ('Jin', 34)\n",
    "       , ('JK', 32), ('V', 44), ('Jimin',14), ('RM', 35)]\n",
    "# Hint: use reduceByKey"
   ]
  },
  {
   "cell_type": "code",
   "execution_count": 54,
   "id": "4e7a104c",
   "metadata": {},
   "outputs": [],
   "source": [
    "rdd = spark.sparkContext.parallelize(list)"
   ]
  },
  {
   "cell_type": "code",
   "execution_count": 55,
   "id": "c9fec4b1",
   "metadata": {},
   "outputs": [],
   "source": [
    "sum_rdd = rdd.reduceByKey(lambda x, y : x + y)"
   ]
  },
  {
   "cell_type": "code",
   "execution_count": 56,
   "id": "9e151dda",
   "metadata": {},
   "outputs": [
    {
     "data": {
      "text/plain": [
       "[('Jimin', 38),\n",
       " ('RM', 60),\n",
       " ('V', 68),\n",
       " ('Jin', 61),\n",
       " ('J-Hope', 37),\n",
       " ('Suga', 51),\n",
       " ('JK', 54)]"
      ]
     },
     "execution_count": 56,
     "metadata": {},
     "output_type": "execute_result"
    }
   ],
   "source": [
    "sum_rdd.collect()"
   ]
  },
  {
   "cell_type": "markdown",
   "id": "32e5cb05-4a3a-44f4-8e49-82467065997b",
   "metadata": {},
   "source": [
    "### Creat some key value pairs RDDs"
   ]
  },
  {
   "cell_type": "code",
   "execution_count": 57,
   "id": "dbf08ff6-f326-4aa5-bdac-baaef16cf777",
   "metadata": {},
   "outputs": [],
   "source": [
    "students = [(1, \"Kareem\"), (2, \"Sara\"), (3, \"Ahmed\"), (4, \"Mona\")]\n",
    "grades = [(1, \"A\"), (2, \"B\"), (4, \"A+\"), (5, \"C\")]"
   ]
  },
  {
   "cell_type": "code",
   "execution_count": 58,
   "id": "b2e6f885",
   "metadata": {},
   "outputs": [
    {
     "name": "stdout",
     "output_type": "stream",
     "text": [
      "Students: [(1, 'Kareem'), (2, 'Sara'), (3, 'Ahmed'), (4, 'Mona')]\n",
      "Grades: [(1, 'A'), (2, 'B'), (4, 'A+'), (5, 'C')]\n"
     ]
    }
   ],
   "source": [
    "students_rdd = spark.sparkContext.parallelize(students)\n",
    "grades_rdd = spark.sparkContext.parallelize(grades)\n",
    "\n",
    "print(\"Students:\", students_rdd.collect())\n",
    "print(\"Grades:\", grades_rdd.collect())"
   ]
  },
  {
   "cell_type": "markdown",
   "id": "e9539667-386a-453d-8b62-189a7ff90800",
   "metadata": {},
   "source": [
    "### Perform Join operation on the RDDs (rdd1,rdd2)"
   ]
  },
  {
   "cell_type": "code",
   "execution_count": 60,
   "id": "29407ee3-9e4c-4ed2-8eeb-72e9dbb84a8d",
   "metadata": {},
   "outputs": [],
   "source": [
    "rdd_students = spark.sparkContext.parallelize(students)\n",
    "rdd_grades = spark.sparkContext.parallelize(grades)"
   ]
  },
  {
   "cell_type": "code",
   "execution_count": null,
   "id": "3b1dbf32-e555-49c6-bcb0-69b0382c8637",
   "metadata": {},
   "outputs": [
    {
     "data": {
      "text/plain": [
       "[(1, ('Kareem', 'A')), (2, ('Sara', 'B')), (4, ('Mona', 'A+'))]"
      ]
     },
     "execution_count": 61,
     "metadata": {},
     "output_type": "execute_result"
    }
   ],
   "source": [
    "joined_rdd = students_rdd.join(grades_rdd)\n",
    "print(joined_rdd.collect())"
   ]
  },
  {
   "cell_type": "code",
   "execution_count": null,
   "id": "fb931bdb",
   "metadata": {},
   "outputs": [
    {
     "data": {
      "text/plain": [
       "[(1, ('Kareem', 'A')),\n",
       " (2, ('Sara', 'B')),\n",
       " (3, ('Ahmed', None)),\n",
       " (4, ('Mona', 'A+'))]"
      ]
     },
     "execution_count": 62,
     "metadata": {},
     "output_type": "execute_result"
    }
   ],
   "source": [
    "left_full_grades = rdd_students.leftOuterJoin(rdd_grades)\n",
    "print(left_full_grades.collect())"
   ]
  },
  {
   "cell_type": "code",
   "execution_count": null,
   "id": "23699aa8",
   "metadata": {},
   "outputs": [
    {
     "name": "stdout",
     "output_type": "stream",
     "text": [
      "[(1, ('Kareem', 'A')), (2, ('Sara', 'B')), (4, ('Mona', 'A+')), (5, (None, 'C'))]\n"
     ]
    }
   ],
   "source": [
    "right_full_grades = rdd_students.rightOuterJoin(rdd_grades)\n",
    "print(right_full_grades.collect())"
   ]
  }
 ],
 "metadata": {
  "kernelspec": {
   "display_name": "Python 3 (ipykernel)",
   "language": "python",
   "name": "python3"
  },
  "language_info": {
   "codemirror_mode": {
    "name": "ipython",
    "version": 3
   },
   "file_extension": ".py",
   "mimetype": "text/x-python",
   "name": "python",
   "nbconvert_exporter": "python",
   "pygments_lexer": "ipython3",
   "version": "3.11.6"
  }
 },
 "nbformat": 4,
 "nbformat_minor": 5
}
