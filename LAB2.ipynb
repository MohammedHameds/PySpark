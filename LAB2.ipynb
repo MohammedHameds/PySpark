{
 "cells": [
  {
   "cell_type": "markdown",
   "metadata": {
    "id": "eNgzUtoyQM47"
   },
   "source": [
    "# DataFrame Operations"
   ]
  },
  {
   "cell_type": "markdown",
   "metadata": {
    "id": "KBrsJ9WgQEU0"
   },
   "source": [
    "Let's get some quick practice with your new Spark DataFrame skills, you will be asked some basic questions about some stock market data, in this case Walmart Stock from the years 2012-2017. This exercise will just ask a bunch of questions, unlike the future machine learning exercises, which will be a little looser and be in the form of \"Consulting Projects\", but more on that later!\n",
    "\n",
    "For now, just answer the questions and complete the tasks below."
   ]
  },
  {
   "cell_type": "code",
   "execution_count": 2,
   "metadata": {},
   "outputs": [
    {
     "data": {
      "text/html": [
       "<style>pre { white-space: pre !important; }</style>"
      ],
      "text/plain": [
       "<IPython.core.display.HTML object>"
      ]
     },
     "metadata": {},
     "output_type": "display_data"
    }
   ],
   "source": [
    "## To display notebook cell with horizontal scroll bar\n",
    "from IPython.display import display, HTML\n",
    "display(HTML(\"<style>pre { white-space: pre !important; }</style>\"))"
   ]
  },
  {
   "cell_type": "markdown",
   "metadata": {
    "id": "pBTm6mJjQEU4"
   },
   "source": [
    "#### Start a simple Spark Session"
   ]
  },
  {
   "cell_type": "code",
   "execution_count": 3,
   "metadata": {},
   "outputs": [],
   "source": [
    "from pyspark.sql import SparkSession\n",
    "from pyspark.sql.functions import *\n",
    "from pyspark.sql.types import DoubleType\n",
    "\n",
    "spark = SparkSession.builder \\\n",
    "    .master(\"local\") \\\n",
    "    .getOrCreate()"
   ]
  },
  {
   "cell_type": "code",
   "execution_count": 17,
   "metadata": {},
   "outputs": [
    {
     "data": {
      "text/html": [
       "\n",
       "            <div>\n",
       "                <p><b>SparkSession - in-memory</b></p>\n",
       "                \n",
       "        <div>\n",
       "            <p><b>SparkContext</b></p>\n",
       "\n",
       "            <p><a href=\"http://jupyter:4040\">Spark UI</a></p>\n",
       "\n",
       "            <dl>\n",
       "              <dt>Version</dt>\n",
       "                <dd><code>v3.5.0</code></dd>\n",
       "              <dt>Master</dt>\n",
       "                <dd><code>local</code></dd>\n",
       "              <dt>AppName</dt>\n",
       "                <dd><code>pyspark-shell</code></dd>\n",
       "            </dl>\n",
       "        </div>\n",
       "        \n",
       "            </div>\n",
       "        "
      ],
      "text/plain": [
       "<pyspark.sql.session.SparkSession at 0x75c8481b2b90>"
      ]
     },
     "execution_count": 17,
     "metadata": {},
     "output_type": "execute_result"
    }
   ],
   "source": [
    "spark"
   ]
  },
  {
   "cell_type": "markdown",
   "metadata": {
    "id": "_SvK1u-xQEU7"
   },
   "source": [
    "#### Load the Walmart Stock CSV File, have Spark infer the data types."
   ]
  },
  {
   "cell_type": "code",
   "execution_count": 11,
   "metadata": {},
   "outputs": [],
   "source": [
    "df = spark.read.csv(\"work/walmart_stock.csv\", header=True, \n",
    "                    schema=\"\"\"Date STRING, Open FLOAT, High FLOAT, Low FLOAT, Close FLOAT, Volume INT, Adj_Close FLOAT\"\"\")\n"
   ]
  },
  {
   "cell_type": "markdown",
   "metadata": {
    "id": "EWyuYG3HQEU9"
   },
   "source": [
    "#### What are the column names?"
   ]
  },
  {
   "cell_type": "code",
   "execution_count": 12,
   "metadata": {},
   "outputs": [
    {
     "data": {
      "text/plain": [
       "['Date', 'Open', 'High', 'Low', 'Close', 'Volume', 'Adj_Close']"
      ]
     },
     "execution_count": 12,
     "metadata": {},
     "output_type": "execute_result"
    }
   ],
   "source": [
    "df.columns"
   ]
  },
  {
   "cell_type": "markdown",
   "metadata": {
    "id": "IF87H3r1QEU_"
   },
   "source": [
    "#### What does the Schema look like?"
   ]
  },
  {
   "cell_type": "code",
   "execution_count": 13,
   "metadata": {},
   "outputs": [
    {
     "name": "stdout",
     "output_type": "stream",
     "text": [
      "root\n",
      " |-- Date: string (nullable = true)\n",
      " |-- Open: float (nullable = true)\n",
      " |-- High: float (nullable = true)\n",
      " |-- Low: float (nullable = true)\n",
      " |-- Close: float (nullable = true)\n",
      " |-- Volume: integer (nullable = true)\n",
      " |-- Adj_Close: float (nullable = true)\n",
      "\n"
     ]
    }
   ],
   "source": [
    "df.printSchema()"
   ]
  },
  {
   "cell_type": "markdown",
   "metadata": {
    "id": "ixYkVStcQEVA"
   },
   "source": [
    "#### Print out the first 5 salary."
   ]
  },
  {
   "cell_type": "code",
   "execution_count": 14,
   "metadata": {},
   "outputs": [
    {
     "name": "stdout",
     "output_type": "stream",
     "text": [
      "+----------+-----+-----+-----+-----+--------+---------+\n",
      "|      Date| Open| High|  Low|Close|  Volume|Adj_Close|\n",
      "+----------+-----+-----+-----+-----+--------+---------+\n",
      "|2012-01-03|59.97|61.06|59.87|60.33|12668800|52.619236|\n",
      "|2012-01-04|60.21|60.35|59.47|59.71| 9593300|52.078476|\n",
      "|2012-01-05|59.35|59.62|58.37|59.42|12768200| 51.82554|\n",
      "|2012-01-06|59.42|59.45|58.87| 59.0| 8069400| 51.45922|\n",
      "|2012-01-09|59.03|59.55|58.92|59.18| 6679300|51.616215|\n",
      "+----------+-----+-----+-----+-----+--------+---------+\n",
      "only showing top 5 rows\n",
      "\n"
     ]
    }
   ],
   "source": [
    "df.show(5)"
   ]
  },
  {
   "cell_type": "markdown",
   "metadata": {
    "id": "k5biK3B4QEVB"
   },
   "source": [
    "#### Use describe() to learn about the DataFrame."
   ]
  },
  {
   "cell_type": "code",
   "execution_count": 15,
   "metadata": {},
   "outputs": [
    {
     "name": "stdout",
     "output_type": "stream",
     "text": [
      "+-------+----------+-----------------+-----------------+-----------------+-----------------+-----------------+-----------------+\n",
      "|summary|      Date|             Open|             High|              Low|            Close|           Volume|        Adj_Close|\n",
      "+-------+----------+-----------------+-----------------+-----------------+-----------------+-----------------+-----------------+\n",
      "|  count|      1258|             1258|             1258|             1258|             1258|             1258|             1258|\n",
      "|   mean|      NULL|72.35785375452572| 72.8393880756178|71.91860094964979|72.38844997363553|8222093.481717011|67.23883840200064|\n",
      "| stddev|      NULL|6.768090251767697|6.768186825250206|6.744075739203606|6.756859160119612|  4519780.8431556|6.722609385249684|\n",
      "|    min|2012-01-03|            56.39|            57.06|             56.3|            56.42|          2094900|         50.36369|\n",
      "|    max|2016-12-30|             90.8|            90.97|            89.25|            90.47|         80898100|        84.914215|\n",
      "+-------+----------+-----------------+-----------------+-----------------+-----------------+-----------------+-----------------+\n",
      "\n"
     ]
    }
   ],
   "source": [
    "df.describe().show()"
   ]
  },
  {
   "cell_type": "markdown",
   "metadata": {
    "id": "p1nK57i1QEVC"
   },
   "source": [
    "## Bonus Question!\n",
    "#### There are too many decimal places for mean and stddev in the describe() dataframe. Format the numbers to just show up to two decimal places. Pay careful attention to the datatypes that .describe() returns, we didn't cover how to do this exact formatting, but we covered something very similar. \n",
    "\n",
    "If you get stuck on this, don't worry, just view the solutions."
   ]
  },
  {
   "cell_type": "code",
   "execution_count": 18,
   "metadata": {},
   "outputs": [],
   "source": [
    "df_describe = df.describe()\n",
    "\n",
    "numeric_cols = [col_name for col_name in df_describe.columns if col_name not in ['summary','Date']]\n",
    "\n",
    "\n",
    "for col_name in numeric_cols:\n",
    "    df_describe = df_describe.withColumn(col_name, round(col(col_name), 2))"
   ]
  },
  {
   "cell_type": "code",
   "execution_count": 19,
   "metadata": {},
   "outputs": [
    {
     "name": "stdout",
     "output_type": "stream",
     "text": [
      "+-------+----------+------+------+------+------+----------+---------+\n",
      "|summary|      Date|  Open|  High|   Low| Close|    Volume|Adj_Close|\n",
      "+-------+----------+------+------+------+------+----------+---------+\n",
      "|  count|      1258|1258.0|1258.0|1258.0|1258.0|    1258.0|   1258.0|\n",
      "|   mean|      NULL| 72.36| 72.84| 71.92| 72.39|8222093.48|    67.24|\n",
      "| stddev|      NULL|  6.77|  6.77|  6.74|  6.76|4519780.84|     6.72|\n",
      "|    min|2012-01-03| 56.39| 57.06|  56.3| 56.42| 2094900.0|    50.36|\n",
      "|    max|2016-12-30|  90.8| 90.97| 89.25| 90.47| 8.08981E7|    84.91|\n",
      "+-------+----------+------+------+------+------+----------+---------+\n",
      "\n"
     ]
    }
   ],
   "source": [
    "df_describe.show()"
   ]
  },
  {
   "cell_type": "markdown",
   "metadata": {},
   "source": [
    "#### ################################################################## End of Bonus Question"
   ]
  },
  {
   "cell_type": "markdown",
   "metadata": {
    "id": "9MwLgnCSQEVD"
   },
   "source": [
    "#### Create a new dataframe with a column called HV Ratio that is the ratio of the High Price versus volume of stock traded for a day."
   ]
  },
  {
   "cell_type": "code",
   "execution_count": 20,
   "metadata": {},
   "outputs": [
    {
     "name": "stdout",
     "output_type": "stream",
     "text": [
      "+----------+-----+-----+-----+-----+--------+---------+--------------------+\n",
      "|      Date| Open| High|  Low|Close|  Volume|Adj_Close|            HV_Ratio|\n",
      "+----------+-----+-----+-----+-----+--------+---------+--------------------+\n",
      "|2012-01-03|59.97|61.06|59.87|60.33|12668800|52.619236|4.819714682786927E-6|\n",
      "|2012-01-04|60.21|60.35|59.47|59.71| 9593300|52.078476|6.290848662516662E-6|\n",
      "|2012-01-05|59.35|59.62|58.37|59.42|12768200| 51.82554| 4.66941298944916E-6|\n",
      "|2012-01-06|59.42|59.45|58.87| 59.0| 8069400| 51.45922| 7.36733843444859E-6|\n",
      "|2012-01-09|59.03|59.55|58.92|59.18| 6679300|51.616215|8.915604814435727E-6|\n",
      "+----------+-----+-----+-----+-----+--------+---------+--------------------+\n",
      "only showing top 5 rows\n",
      "\n"
     ]
    }
   ],
   "source": [
    "new_df = df.withColumn(\"HV_Ratio\", df[\"High\"] / df[\"Volume\"])\n",
    "new_df.show(5)"
   ]
  },
  {
   "cell_type": "markdown",
   "metadata": {
    "id": "sfOdDUdCQEVE"
   },
   "source": [
    "#### What day had the Peak High in Price?"
   ]
  },
  {
   "cell_type": "code",
   "execution_count": null,
   "metadata": {},
   "outputs": [
    {
     "data": {
      "text/plain": [
       "90.97000122070312"
      ]
     },
     "execution_count": 21,
     "metadata": {},
     "output_type": "execute_result"
    }
   ],
   "source": [
    "max_high = new_df.select(max(\"High\").alias(\"Peak_High\")).first()[0]\n",
    "max_high\n"
   ]
  },
  {
   "cell_type": "code",
   "execution_count": 22,
   "metadata": {},
   "outputs": [
    {
     "name": "stdout",
     "output_type": "stream",
     "text": [
      "+----------+-----+\n",
      "|      Date| High|\n",
      "+----------+-----+\n",
      "|2015-01-13|90.97|\n",
      "+----------+-----+\n",
      "\n"
     ]
    }
   ],
   "source": [
    "new_df.select(\"Date\" , \"High\").where(new_df[\"High\"] == max_high).show()"
   ]
  },
  {
   "cell_type": "markdown",
   "metadata": {
    "id": "z_RIIXHnQEVE"
   },
   "source": [
    "#### What is the mean of the Close column?"
   ]
  },
  {
   "cell_type": "code",
   "execution_count": 23,
   "metadata": {},
   "outputs": [
    {
     "name": "stdout",
     "output_type": "stream",
     "text": [
      "+----------+\n",
      "|Close_Mean|\n",
      "+----------+\n",
      "|     72.39|\n",
      "+----------+\n",
      "\n"
     ]
    }
   ],
   "source": [
    "new_df.select(format_number(mean(\"Close\"),2).alias(\"Close_Mean\")).show()"
   ]
  },
  {
   "cell_type": "markdown",
   "metadata": {
    "id": "Z8V-r7I1QEVF"
   },
   "source": [
    "#### What is the max and min of the Volume column?"
   ]
  },
  {
   "cell_type": "code",
   "execution_count": 24,
   "metadata": {},
   "outputs": [
    {
     "name": "stdout",
     "output_type": "stream",
     "text": [
      "+----------+----------+\n",
      "|Max_Volume|Min_Volume|\n",
      "+----------+----------+\n",
      "|  80898100|   2094900|\n",
      "+----------+----------+\n",
      "\n"
     ]
    }
   ],
   "source": [
    "new_df.select(max(\"Volume\").alias(\"Max_Volume\"), min(\"Volume\").alias(\"Min_Volume\")).show()"
   ]
  },
  {
   "cell_type": "markdown",
   "metadata": {
    "id": "VT4RVThzQEVG"
   },
   "source": [
    "#### How many days was the Close lower than 60 dollars?"
   ]
  },
  {
   "cell_type": "code",
   "execution_count": 25,
   "metadata": {},
   "outputs": [
    {
     "data": {
      "text/plain": [
       "64"
      ]
     },
     "execution_count": 25,
     "metadata": {},
     "output_type": "execute_result"
    }
   ],
   "source": [
    "new_df.filter(new_df[\"High\"] < 60).count()"
   ]
  },
  {
   "cell_type": "code",
   "execution_count": 26,
   "metadata": {},
   "outputs": [
    {
     "data": {
      "text/plain": [
       "64"
      ]
     },
     "execution_count": 26,
     "metadata": {},
     "output_type": "execute_result"
    }
   ],
   "source": [
    "new_df.select(\"Date\").filter(new_df[\"High\"] < 60).count()"
   ]
  },
  {
   "cell_type": "markdown",
   "metadata": {
    "id": "7pqovtOeQEVG"
   },
   "source": [
    "#### What percentage of the time was the High greater than 80 dollars ?\n",
    "#### In other words, (Number of Days High>80)/(Total Days in the dataset)"
   ]
  },
  {
   "cell_type": "code",
   "execution_count": 27,
   "metadata": {},
   "outputs": [
    {
     "data": {
      "text/plain": [
       "0.09141494435612083"
      ]
     },
     "execution_count": 27,
     "metadata": {},
     "output_type": "execute_result"
    }
   ],
   "source": [
    "new_df.filter(new_df[\"High\"] > 80).count() / new_df.count()"
   ]
  },
  {
   "cell_type": "markdown",
   "metadata": {
    "id": "hhggc4nrQEVH"
   },
   "source": [
    "#### What is the Pearson correlation between High and Volume?"
   ]
  },
  {
   "cell_type": "code",
   "execution_count": 28,
   "metadata": {},
   "outputs": [
    {
     "data": {
      "text/plain": [
       "-0.3384326061799556"
      ]
     },
     "execution_count": 28,
     "metadata": {},
     "output_type": "execute_result"
    }
   ],
   "source": [
    "new_df.stat.corr(\"High\" , \"Volume\")"
   ]
  },
  {
   "cell_type": "markdown",
   "metadata": {
    "id": "5cUkJpW8QEVJ"
   },
   "source": [
    "#### What is the max High per year?"
   ]
  },
  {
   "cell_type": "code",
   "execution_count": 29,
   "metadata": {},
   "outputs": [
    {
     "name": "stdout",
     "output_type": "stream",
     "text": [
      "+----+--------+\n",
      "|Year|Max_High|\n",
      "+----+--------+\n",
      "|2012|    77.6|\n",
      "|2013|   81.37|\n",
      "|2014|   88.09|\n",
      "|2015|   90.97|\n",
      "|2016|   75.19|\n",
      "+----+--------+\n",
      "\n"
     ]
    }
   ],
   "source": [
    "new_df.select(year(\"Date\").alias(\"Year\"),\"High\") \\\n",
    "      .groupBy(\"Year\") \\\n",
    "      .agg(max(\"High\").alias(\"Max_High\")) \\\n",
    "      .orderBy(\"Year\").show()"
   ]
  },
  {
   "cell_type": "markdown",
   "metadata": {
    "id": "Qzrj0hnQQEVK"
   },
   "source": [
    "#### What is the average Close for each Calendar Month?\n",
    "#### In other words, across all the years, what is the average Close price for Jan,Feb, Mar, etc... Your result will have a value for each of these months. "
   ]
  },
  {
   "cell_type": "code",
   "execution_count": 30,
   "metadata": {},
   "outputs": [
    {
     "name": "stdout",
     "output_type": "stream",
     "text": [
      "+-----+-----------------+\n",
      "|Month|        Avg_Close|\n",
      "+-----+-----------------+\n",
      "|    1| 71.4480196131338|\n",
      "|    2|71.30680438169499|\n",
      "|    3|71.77794376266337|\n",
      "|    4|72.97361900692894|\n",
      "|    5|72.30971685445533|\n",
      "|    6| 72.4953774506191|\n",
      "|    7|74.43971944078106|\n",
      "|    8| 73.0298185521906|\n",
      "|    9|72.18411782208611|\n",
      "|   10| 71.5785454489968|\n",
      "|   11|72.11108927207418|\n",
      "|   12|72.84792482628012|\n",
      "+-----+-----------------+\n",
      "\n"
     ]
    }
   ],
   "source": [
    "new_df.select(month(\"Date\").alias(\"Month\") , \"Close\") \\\n",
    "        .groupBy(\"Month\") \\\n",
    "        .agg(avg(\"Close\").alias(\"Avg_Close\")) \\\n",
    "        .orderBy(\"Month\").show()"
   ]
  },
  {
   "cell_type": "markdown",
   "metadata": {
    "id": "5d6364f6"
   },
   "source": [
    "## Task 2\n"
   ]
  },
  {
   "cell_type": "markdown",
   "metadata": {
    "id": "rlWhDvTPfZgu"
   },
   "source": [
    "### Read \"test1\" dataset:"
   ]
  },
  {
   "cell_type": "code",
   "execution_count": 34,
   "metadata": {},
   "outputs": [
    {
     "name": "stdout",
     "output_type": "stream",
     "text": [
      "+---------+---+----------+------+\n",
      "|     Name|age|Experience|Salary|\n",
      "+---------+---+----------+------+\n",
      "|    Krish| 31|        10| 30000|\n",
      "|Sudhanshu| 30|         8| 25000|\n",
      "|    Sunny| 29|         4| 20000|\n",
      "|     Paul| 24|         3| 20000|\n",
      "|   Harsha| 21|         1| 15000|\n",
      "|  Shubham| 23|         2| 18000|\n",
      "+---------+---+----------+------+\n",
      "\n"
     ]
    }
   ],
   "source": [
    "test1 = spark.read.csv(\"work/test1.csv\", header=True)\n",
    "test1.show()"
   ]
  },
  {
   "cell_type": "markdown",
   "metadata": {
    "id": "EJKjDOKHfnCt"
   },
   "source": [
    "### Display Salary of the people less than or equal to 20000"
   ]
  },
  {
   "cell_type": "code",
   "execution_count": 35,
   "metadata": {},
   "outputs": [
    {
     "name": "stdout",
     "output_type": "stream",
     "text": [
      "+-------+------+\n",
      "|   Name|Salary|\n",
      "+-------+------+\n",
      "|  Sunny| 20000|\n",
      "|   Paul| 20000|\n",
      "| Harsha| 15000|\n",
      "|Shubham| 18000|\n",
      "+-------+------+\n",
      "\n"
     ]
    }
   ],
   "source": [
    "test1.select(\"Name\", \"Salary\").where(test1[\"Salary\"] <= 20000).show()"
   ]
  },
  {
   "cell_type": "markdown",
   "metadata": {
    "id": "OvFWNFJjf0Pq"
   },
   "source": [
    "### Display Salary of the people less than or equal to 20000 and greater than or equal 15000"
   ]
  },
  {
   "cell_type": "code",
   "execution_count": 36,
   "metadata": {},
   "outputs": [
    {
     "name": "stdout",
     "output_type": "stream",
     "text": [
      "+-------+------+\n",
      "|   Name|Salary|\n",
      "+-------+------+\n",
      "|  Sunny| 20000|\n",
      "|   Paul| 20000|\n",
      "| Harsha| 15000|\n",
      "|Shubham| 18000|\n",
      "+-------+------+\n",
      "\n"
     ]
    }
   ],
   "source": [
    "test1.select(\"Name\", \"Salary\").where((test1[\"Salary\"] <= 20000) & (test1[\"Salary\"] >= 15000)).show()"
   ]
  },
  {
   "cell_type": "markdown",
   "metadata": {
    "id": "9VAcIXkTgN9D"
   },
   "source": [
    "## Task 3 "
   ]
  },
  {
   "cell_type": "markdown",
   "metadata": {
    "id": "uOeqRO2KgW34"
   },
   "source": [
    "### Read \"test3\" dataset:"
   ]
  },
  {
   "cell_type": "code",
   "execution_count": 37,
   "metadata": {},
   "outputs": [],
   "source": [
    "test3 = spark.read.csv(\"work/test3.csv\", header = True)\n"
   ]
  },
  {
   "cell_type": "markdown",
   "metadata": {
    "id": "ejyUT1rngdeR"
   },
   "source": [
    "### Display dataset"
   ]
  },
  {
   "cell_type": "code",
   "execution_count": 38,
   "metadata": {},
   "outputs": [
    {
     "name": "stdout",
     "output_type": "stream",
     "text": [
      "+---------+------------+------+\n",
      "|     Name| Departments|salary|\n",
      "+---------+------------+------+\n",
      "|    Krish|Data Science| 10000|\n",
      "|    Krish|         IOT|  5000|\n",
      "|   Mahesh|    Big Data|  4000|\n",
      "|    Krish|    Big Data|  4000|\n",
      "|   Mahesh|Data Science|  3000|\n",
      "|Sudhanshu|Data Science| 20000|\n",
      "|Sudhanshu|         IOT| 10000|\n",
      "|Sudhanshu|    Big Data|  5000|\n",
      "|    Sunny|Data Science| 10000|\n",
      "|    Sunny|    Big Data|  2000|\n",
      "+---------+------------+------+\n",
      "\n"
     ]
    }
   ],
   "source": [
    "test3.show()"
   ]
  },
  {
   "cell_type": "markdown",
   "metadata": {
    "id": "Xp42YtorghXJ"
   },
   "source": [
    "### Display schema"
   ]
  },
  {
   "cell_type": "code",
   "execution_count": 39,
   "metadata": {},
   "outputs": [
    {
     "name": "stdout",
     "output_type": "stream",
     "text": [
      "root\n",
      " |-- Name: string (nullable = true)\n",
      " |-- Departments: string (nullable = true)\n",
      " |-- salary: string (nullable = true)\n",
      "\n"
     ]
    }
   ],
   "source": [
    "test3.printSchema()"
   ]
  },
  {
   "cell_type": "markdown",
   "metadata": {
    "id": "PHxWeGCCgnww"
   },
   "source": [
    "### Group by \"Name\" column and using sum function on \"salary\" column"
   ]
  },
  {
   "cell_type": "code",
   "execution_count": 40,
   "metadata": {},
   "outputs": [
    {
     "name": "stdout",
     "output_type": "stream",
     "text": [
      "+---------+------------+\n",
      "|     Name|Total_Salary|\n",
      "+---------+------------+\n",
      "|Sudhanshu|     35000.0|\n",
      "|    Sunny|     12000.0|\n",
      "|    Krish|     19000.0|\n",
      "|   Mahesh|      7000.0|\n",
      "+---------+------------+\n",
      "\n"
     ]
    }
   ],
   "source": [
    "test3.groupBy(\"Name\").agg(sum(\"Salary\").alias(\"Total_Salary\")).show()"
   ]
  },
  {
   "cell_type": "markdown",
   "metadata": {
    "id": "gWgkaU3bhUOL"
   },
   "source": [
    "### Group by \"Name\" column and using avg function on \"salary\" column"
   ]
  },
  {
   "cell_type": "code",
   "execution_count": 41,
   "metadata": {},
   "outputs": [
    {
     "name": "stdout",
     "output_type": "stream",
     "text": [
      "+---------+------------------+\n",
      "|     Name|    Average_Salary|\n",
      "+---------+------------------+\n",
      "|Sudhanshu|11666.666666666666|\n",
      "|    Sunny|            6000.0|\n",
      "|    Krish| 6333.333333333333|\n",
      "|   Mahesh|            3500.0|\n",
      "+---------+------------------+\n",
      "\n"
     ]
    }
   ],
   "source": [
    "test3.groupBy(\"Name\").agg(avg(\"Salary\").alias(\"Average_Salary\")).show()"
   ]
  },
  {
   "cell_type": "markdown",
   "metadata": {
    "id": "ARg_-WPKhfL5"
   },
   "source": [
    "### Group by \"Departments\" column and using sum function on \"salary\" column"
   ]
  },
  {
   "cell_type": "code",
   "execution_count": 42,
   "metadata": {},
   "outputs": [
    {
     "name": "stdout",
     "output_type": "stream",
     "text": [
      "+------------+------------+\n",
      "| Departments|Total_Salary|\n",
      "+------------+------------+\n",
      "|         IOT|     15000.0|\n",
      "|    Big Data|     15000.0|\n",
      "|Data Science|     43000.0|\n",
      "+------------+------------+\n",
      "\n"
     ]
    }
   ],
   "source": [
    "test3.groupBy(\"Departments\").agg(sum(\"Salary\").alias(\"Total_Salary\")).show()"
   ]
  },
  {
   "cell_type": "markdown",
   "metadata": {
    "id": "S7rdLSEXhn4W"
   },
   "source": [
    "### Group by \"Departments\" column and using mean function on \"salary\" column:"
   ]
  },
  {
   "cell_type": "code",
   "execution_count": 43,
   "metadata": {},
   "outputs": [
    {
     "name": "stdout",
     "output_type": "stream",
     "text": [
      "+---------+-----------+\n",
      "|     Name|Mean_Salary|\n",
      "+---------+-----------+\n",
      "|Sudhanshu|  11,666.67|\n",
      "|    Sunny|   6,000.00|\n",
      "|    Krish|   6,333.33|\n",
      "|   Mahesh|   3,500.00|\n",
      "+---------+-----------+\n",
      "\n"
     ]
    }
   ],
   "source": [
    "test3.groupBy(\"Name\").agg(format_number(mean(\"Salary\"),2).alias(\"Mean_Salary\")).show()"
   ]
  },
  {
   "cell_type": "markdown",
   "metadata": {
    "id": "dfPs99wnhwGu"
   },
   "source": [
    "### Apply agg to using sum function get the total of salaries"
   ]
  },
  {
   "cell_type": "code",
   "execution_count": 44,
   "metadata": {},
   "outputs": [
    {
     "name": "stdout",
     "output_type": "stream",
     "text": [
      "+--------------+\n",
      "|Total_Salaries|\n",
      "+--------------+\n",
      "|       73000.0|\n",
      "+--------------+\n",
      "\n"
     ]
    }
   ],
   "source": [
    "test3.agg(sum(\"Salary\").alias(\"Total_Salaries\")).show()"
   ]
  }
 ],
 "metadata": {
  "anaconda-cloud": {},
  "colab": {
   "name": "PySpark H.W Session 1.ipynb",
   "provenance": []
  },
  "kernelspec": {
   "display_name": "Python 3 (ipykernel)",
   "language": "python",
   "name": "python3"
  },
  "language_info": {
   "codemirror_mode": {
    "name": "ipython",
    "version": 3
   },
   "file_extension": ".py",
   "mimetype": "text/x-python",
   "name": "python",
   "nbconvert_exporter": "python",
   "pygments_lexer": "ipython3",
   "version": "3.11.6"
  }
 },
 "nbformat": 4,
 "nbformat_minor": 4
}
